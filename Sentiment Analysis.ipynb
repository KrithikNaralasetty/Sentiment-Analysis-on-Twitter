{
 "cells": [
  {
   "cell_type": "code",
   "execution_count": 1,
   "metadata": {
    "scrolled": true
   },
   "outputs": [
    {
     "name": "stderr",
     "output_type": "stream",
     "text": [
      "Using TensorFlow backend.\n",
      "C:\\Users\\LENOVO\\anaconda3\\lib\\site-packages\\tensorflow\\python\\framework\\dtypes.py:516: FutureWarning: Passing (type, 1) or '1type' as a synonym of type is deprecated; in a future version of numpy, it will be understood as (type, (1,)) / '(1,)type'.\n",
      "  _np_qint8 = np.dtype([(\"qint8\", np.int8, 1)])\n",
      "C:\\Users\\LENOVO\\anaconda3\\lib\\site-packages\\tensorflow\\python\\framework\\dtypes.py:517: FutureWarning: Passing (type, 1) or '1type' as a synonym of type is deprecated; in a future version of numpy, it will be understood as (type, (1,)) / '(1,)type'.\n",
      "  _np_quint8 = np.dtype([(\"quint8\", np.uint8, 1)])\n",
      "C:\\Users\\LENOVO\\anaconda3\\lib\\site-packages\\tensorflow\\python\\framework\\dtypes.py:518: FutureWarning: Passing (type, 1) or '1type' as a synonym of type is deprecated; in a future version of numpy, it will be understood as (type, (1,)) / '(1,)type'.\n",
      "  _np_qint16 = np.dtype([(\"qint16\", np.int16, 1)])\n",
      "C:\\Users\\LENOVO\\anaconda3\\lib\\site-packages\\tensorflow\\python\\framework\\dtypes.py:519: FutureWarning: Passing (type, 1) or '1type' as a synonym of type is deprecated; in a future version of numpy, it will be understood as (type, (1,)) / '(1,)type'.\n",
      "  _np_quint16 = np.dtype([(\"quint16\", np.uint16, 1)])\n",
      "C:\\Users\\LENOVO\\anaconda3\\lib\\site-packages\\tensorflow\\python\\framework\\dtypes.py:520: FutureWarning: Passing (type, 1) or '1type' as a synonym of type is deprecated; in a future version of numpy, it will be understood as (type, (1,)) / '(1,)type'.\n",
      "  _np_qint32 = np.dtype([(\"qint32\", np.int32, 1)])\n",
      "C:\\Users\\LENOVO\\anaconda3\\lib\\site-packages\\tensorflow\\python\\framework\\dtypes.py:525: FutureWarning: Passing (type, 1) or '1type' as a synonym of type is deprecated; in a future version of numpy, it will be understood as (type, (1,)) / '(1,)type'.\n",
      "  np_resource = np.dtype([(\"resource\", np.ubyte, 1)])\n",
      "C:\\Users\\LENOVO\\anaconda3\\lib\\site-packages\\tensorboard\\compat\\tensorflow_stub\\dtypes.py:541: FutureWarning: Passing (type, 1) or '1type' as a synonym of type is deprecated; in a future version of numpy, it will be understood as (type, (1,)) / '(1,)type'.\n",
      "  _np_qint8 = np.dtype([(\"qint8\", np.int8, 1)])\n",
      "C:\\Users\\LENOVO\\anaconda3\\lib\\site-packages\\tensorboard\\compat\\tensorflow_stub\\dtypes.py:542: FutureWarning: Passing (type, 1) or '1type' as a synonym of type is deprecated; in a future version of numpy, it will be understood as (type, (1,)) / '(1,)type'.\n",
      "  _np_quint8 = np.dtype([(\"quint8\", np.uint8, 1)])\n",
      "C:\\Users\\LENOVO\\anaconda3\\lib\\site-packages\\tensorboard\\compat\\tensorflow_stub\\dtypes.py:543: FutureWarning: Passing (type, 1) or '1type' as a synonym of type is deprecated; in a future version of numpy, it will be understood as (type, (1,)) / '(1,)type'.\n",
      "  _np_qint16 = np.dtype([(\"qint16\", np.int16, 1)])\n",
      "C:\\Users\\LENOVO\\anaconda3\\lib\\site-packages\\tensorboard\\compat\\tensorflow_stub\\dtypes.py:544: FutureWarning: Passing (type, 1) or '1type' as a synonym of type is deprecated; in a future version of numpy, it will be understood as (type, (1,)) / '(1,)type'.\n",
      "  _np_quint16 = np.dtype([(\"quint16\", np.uint16, 1)])\n",
      "C:\\Users\\LENOVO\\anaconda3\\lib\\site-packages\\tensorboard\\compat\\tensorflow_stub\\dtypes.py:545: FutureWarning: Passing (type, 1) or '1type' as a synonym of type is deprecated; in a future version of numpy, it will be understood as (type, (1,)) / '(1,)type'.\n",
      "  _np_qint32 = np.dtype([(\"qint32\", np.int32, 1)])\n",
      "C:\\Users\\LENOVO\\anaconda3\\lib\\site-packages\\tensorboard\\compat\\tensorflow_stub\\dtypes.py:550: FutureWarning: Passing (type, 1) or '1type' as a synonym of type is deprecated; in a future version of numpy, it will be understood as (type, (1,)) / '(1,)type'.\n",
      "  np_resource = np.dtype([(\"resource\", np.ubyte, 1)])\n"
     ]
    }
   ],
   "source": [
    "import pandas as pd\n",
    "import time\n",
    "import re\n",
    "import numpy as np\n",
    "import matplotlib.pyplot as plt\n",
    "from bs4 import BeautifulSoup\n",
    "from nltk.tokenize import WordPunctTokenizer\n",
    "import os\n",
    "import tweepy as tw\n",
    "from keras.preprocessing.text import Tokenizer\n",
    "from keras.preprocessing.sequence import pad_sequences\n",
    "from sklearn.model_selection import train_test_split\n",
    "import pickle\n",
    "from keras.models import load_model"
   ]
  },
  {
   "cell_type": "code",
   "execution_count": 2,
   "metadata": {},
   "outputs": [],
   "source": [
    "start_time = time.time()\n",
    "\n",
    "# csv = './sentiment_tweets.csv'\n",
    "# my_df = pd.read_csv(csv,index_col=0)\n",
    "# x = my_df.text\n",
    "# y = my_df.target\n",
    "# SEED = 2000\n",
    "# x_train, x_validation_and_test, y_train, y_validation_and_test = train_test_split(x, y, test_size=.02, random_state=SEED)\n",
    "# tokenizer = Tokenizer(num_words=100000)\n",
    "# tokenizer.fit_on_texts(x_train)\n",
    "# with open('tokenizer.pickle','wb') as handle:\n",
    "#     pickle.dump(tokenizer,handle,protocol = pickle.HIGHEST_PROTOCOL)\n",
    "\n",
    "with open('./Models/tokenizer.pickle','rb') as handle:\n",
    "    tokenizer = pickle.load(handle)"
   ]
  },
  {
   "cell_type": "code",
   "execution_count": 3,
   "metadata": {},
   "outputs": [],
   "source": [
    "def authenticate():\n",
    "    consumer_key = \"ugDc5vsJPr72kxiHbISR15SJU\"\n",
    "    consumer_secret_key = \"wDFQ4xRrUTMsZfhqGRKdQiqF2ZQ6YHDalEtfBpUwUARPhkJyPL\"\n",
    "    access_token = \"2377130262-okTKiPKVWKt0pGwgj4wyPPUFRPpvEuyZvVtOrKw\"\n",
    "    access_token_secret = \"rrONH7xppgmsWct3uUAjwFJj65fcEjuQcwgmFYVHQ309c\"\n",
    "    auth = tw.OAuthHandler(consumer_key,consumer_secret_key)\n",
    "    auth.set_access_token(access_token,access_token_secret)\n",
    "    return tw.API(auth,wait_on_rate_limit=True)\n",
    "\n",
    "def get_tweets():\n",
    "    api = authenticate()\n",
    "    search_user = str(input(\"Enter the Twitter Id of a person: \"))\n",
    "    x_input = []\n",
    "    n = int(input(\"Enter number of Recent Tweets to anlyze: \"))\n",
    "    try:\n",
    "        Tweets = tw.Cursor(api.user_timeline,search_user,exclude_replies = True).items(n)\n",
    "        for tweet in Tweets:\n",
    "            x_input.append(tweet.text)\n",
    "    except tw.TweepError:\n",
    "        print(\"Error Occured\")\n",
    "    return (x_input)\n",
    "\n",
    "def predictions(tweet_texts,tokenizer):\n",
    "    sequences_test = tokenizer.texts_to_sequences(tweet_texts)\n",
    "    x_test_seq = pad_sequences(sequences_test, maxlen=45)\n",
    "    model = load_model('./Models/CNN_best_weights.02-0.8292.hdf5')\n",
    "    output_senti = model.predict(x_test_seq)\n",
    "    test_result = []\n",
    "    for i in output_senti:\n",
    "        test_result.append(i[0])\n",
    "    return test_result\n",
    "\n",
    "def tweet_cleaner(text):\n",
    "    tok = WordPunctTokenizer()\n",
    "    pat1 = r'@[A-Za-z0-9]+'\n",
    "    pat2 = r'https?://[A-Za-z0-9./]+'\n",
    "    combined_pat = r'|'.join((pat1, pat2))\n",
    "    www_pat = r'www.[^ ]+'\n",
    "    negations_dic = {\"isn't\": \"is not\", \"aren't\": \"are not\", \"wasn't\": \"was not\", \"weren't\": \"were not\",\n",
    "                     \"haven't\": \"have not\", \"hasn't\": \"has not\", \"hadn't\": \"had not\", \"won't\": \"will not\",\n",
    "                     \"wouldn't\": \"would not\", \"don't\": \"do not\", \"doesn't\": \"does not\", \"didn't\": \"did not\",\n",
    "                     \"can't\": \"can not\", \"couldn't\": \"could not\", \"shouldn't\": \"should not\", \"mightn't\": \"might not\",\n",
    "                     \"mustn't\": \"must not\",\"I'm\":\"I am\",\"he's\":\"he is\",\"she's\":\"she is\",\"that's\":\"that is\",\"where's\":\"where is\",\n",
    "                    \"how's\":\"how is\",\"\\'ll\":\" will\",\"\\'re\": \" are\",\"\\'d\":\" would\",\"\\'ve\":\" have\",\"let's\":\"let us\",\"you're\":\"you are\",\"it's\":\"it is\"}\n",
    "    neg_pattern = re.compile(r'\\b(' + '|'.join(negations_dic.keys()) + r')\\b')\n",
    "    soup = BeautifulSoup(text, 'lxml')\n",
    "    souped = soup.get_text()\n",
    "    stripped = re.sub(combined_pat, '',souped)\n",
    "    stripped = re.sub(www_pat, '', stripped)\n",
    "    lower_case = stripped.lower()\n",
    "    neg_handled = neg_pattern.sub(\n",
    "        lambda x: negations_dic[x.group()], lower_case)\n",
    "    letters_only = re.sub(\"[^a-zA-Z]\", \" \", neg_handled)\n",
    "    words = [x for x in tok.tokenize(letters_only) if len(x) > 1]\n",
    "    return (\" \".join(words)).strip()"
   ]
  },
  {
   "cell_type": "code",
   "execution_count": 10,
   "metadata": {
    "scrolled": false
   },
   "outputs": [
    {
     "name": "stdout",
     "output_type": "stream",
     "text": [
      "Enter the Twitter Id of a person: BarackObama\n",
      "Enter number of Recent Tweets to anlyze: 20\n",
      "Cleaning and parsing the tweets...\n",
      "\n",
      "Cleaned and parsed Tweets...\n",
      "Predicting the values...\n"
     ]
    }
   ],
   "source": [
    "x_input = get_tweets()\n",
    "n = len(x_input)\n",
    "print(\"Cleaning and parsing the tweets...\\n\")\n",
    "clean_tweet_texts = []\n",
    "for i in range(0, n):\n",
    "    clean_tweet_texts.append(tweet_cleaner(x_input[i]))\n",
    "print(\"Cleaned and parsed Tweets...\")\n",
    "print(\"Predicting the values...\")\n",
    "output_senti = predictions(clean_tweet_texts,tokenizer)\n",
    "tweet_number = list(i for i in range(1,n+1))"
   ]
  },
  {
   "cell_type": "code",
   "execution_count": 11,
   "metadata": {},
   "outputs": [
    {
     "data": {
      "image/png": "[encoded data removed]",
      "text/plain": [
       "<Figure size 432x288 with 1 Axes>"
      ]
     },
     "metadata": {
      "needs_background": "light"
     },
     "output_type": "display_data"
    }
   ],
   "source": [
    "fig = plt.figure()\n",
    "ax = fig.add_axes([0,0,1,1])\n",
    "ax.bar(tweet_number,output_senti,color = 'r')\n",
    "plt.ylabel(\"Sentiment scale\")\n",
    "plt.xlabel(\"Recent \"+str(n)+\" tweets\")\n",
    "plt.show()\n",
    "end_time = time.time()\n",
    "time_taken = end_time-start_time"
   ]
  },
  {
   "cell_type": "code",
   "execution_count": 12,
   "metadata": {},
   "outputs": [
    {
     "name": "stdout",
     "output_type": "stream",
     "text": [
      "209.39623022079468\n",
      "[0.9054667, 0.8535133, 0.9941201, 0.9498991, 0.96322584, 0.92226315, 0.54826534, 0.96837306, 0.74496, 0.6292883, 0.53002733, 0.26241046, 0.9629547, 0.99954146, 0.9974657, 0.8345058, 0.38168, 0.9409772, 0.94034266, 0.87593]\n"
     ]
    }
   ],
   "source": [
    "print(time_taken)\n",
    "print(output_senti)"
   ]
  },
  {
   "cell_type": "code",
   "execution_count": 13,
   "metadata": {},
   "outputs": [
    {
     "name": "stdout",
     "output_type": "stream",
     "text": [
      "81.0% of his tweets are positive\n",
      "The user is a positive influencer\n"
     ]
    }
   ],
   "source": [
    "average = ((sum(output_senti)*100)//n )\n",
    "print(str(average) + \"% of his tweets are positive\")\n",
    "if average in range(0,43):\n",
    "    print(\"The user is a negative influencer\")\n",
    "elif average in range(43,64):\n",
    "    print(\"The user is a neutral influencer\")\n",
    "else:\n",
    "    print(\"The user is a positive influencer\")"
   ]
  },
  {
   "cell_type": "code",
   "execution_count": null,
   "metadata": {},
   "outputs": [],
   "source": []
  }
 ],
 "metadata": {
  "kernelspec": {
   "display_name": "Python 3",
   "language": "python",
   "name": "python3"
  },
  "language_info": {
   "codemirror_mode": {
    "name": "ipython",
    "version": 3
   },
   "file_extension": ".py",
   "mimetype": "text/x-python",
   "name": "python",
   "nbconvert_exporter": "python",
   "pygments_lexer": "ipython3",
   "version": "3.7.6"
  }
 },
 "nbformat": 4,
 "nbformat_minor": 2
}
